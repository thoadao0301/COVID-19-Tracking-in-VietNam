{
  "nbformat": 4,
  "nbformat_minor": 0,
  "metadata": {
    "colab": {
      "name": "CSD- Covid19.ipynb",
      "provenance": [],
      "include_colab_link": true
    },
    "kernelspec": {
      "name": "python3",
      "display_name": "Python 3"
    },
    "language_info": {
      "name": "python"
    },
    "accelerator": "GPU"
  },
  "cells": [
    {
      "cell_type": "markdown",
      "metadata": {
        "id": "view-in-github",
        "colab_type": "text"
      },
      "source": [
        "<a href=\"https://colab.research.google.com/github/thoadao0301/COVID-19-Tracking-in-VietNam/blob/main/CSD_Covid19.ipynb\" target=\"_parent\"><img src=\"https://colab.research.google.com/assets/colab-badge.svg\" alt=\"Open In Colab\"/></a>"
      ]
    },
    {
      "cell_type": "markdown",
      "metadata": {
        "id": "poQsjnr0mws6"
      },
      "source": [
        "# Trần Phương Nam"
      ]
    },
    {
      "cell_type": "code",
      "metadata": {
        "id": "S1E1JTlfiHvi"
      },
      "source": [
        "class Tracking_day:\n",
        "  def __init__(self, date,list_contact=[], location_time=[((0,0),'time')]):\n",
        "    self.date = date\n",
        "    self.list_contact = list_contact\n",
        "    self.location_time = location_time\n",
        "class Person:\n",
        "  def __init__(self, id,status=-1, tracking_day=None):\n",
        "    self.id = id\n",
        "    self.status = status\n",
        "    self.tracking_day = tracking_day\n",
        "    if tracking_day == None:\n",
        "      self.tracking_day=[None for _ in range(30)]\n"
      ],
      "execution_count": null,
      "outputs": []
    },
    {
      "cell_type": "markdown",
      "metadata": {
        "id": "_jJaqC3KmzGh"
      },
      "source": [
        "# Đào Lê Bảo Thoa"
      ]
    },
    {
      "cell_type": "code",
      "metadata": {
        "id": "XzZ56qCLmzY-"
      },
      "source": [
        ""
      ],
      "execution_count": null,
      "outputs": []
    },
    {
      "cell_type": "markdown",
      "metadata": {
        "id": "ZveDEf7hm1l1"
      },
      "source": [
        "# Nguyễn Diễm Uyên Phương"
      ]
    },
    {
      "cell_type": "code",
      "metadata": {
        "id": "YGUGfIW1m2G6"
      },
      "source": [
        ""
      ],
      "execution_count": null,
      "outputs": []
    }
  ]
}